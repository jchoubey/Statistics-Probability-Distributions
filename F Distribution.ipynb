{
 "cells": [
  {
   "cell_type": "markdown",
   "id": "f0996636",
   "metadata": {},
   "source": [
    "## F Distribution"
   ]
  },
  {
   "cell_type": "markdown",
   "id": "407ab9ef",
   "metadata": {},
   "source": [
    "What is an F-Distribution?\n",
    "\n",
    "It is a distribution for the confidence interval of **Ratio of 2 variances**.\n",
    "\n",
    "If $U$ & $V$ are independent $chi^2$ random variables with $r_{1}$ & $r_{2}$ degrees of freedom respectively, then:\n",
    "\n",
    "$$F = \\frac{\\frac{U}{r_{1}}}{\\frac{V}{r_{2}}}$$\n",
    "\n",
    "$r_{1}$: Numerator degrees of freedom <br></br>\n",
    "$r_{2}$: Denominator degrees of freedom\n",
    "\n",
    "\n",
    "<u> Intuition:</u>\n",
    "\n",
    "- Recall that variance is the expected value of a square of a random variable.\n",
    "\n",
    "<center> $Var(x)$ = $E(x^2)$ - $[E(x)^2]$ </center>\n",
    "\n",
    "- Also recall that since each variance follows a $chi^2$ distribution with 'n' degrees of freedom; the overall F distribution has 2 different degrees of freedom: Numerator & Denominator.\n",
    "\n",
    "<u> Characteristics of F Distribution </u>\n",
    "\n",
    "1. As it is ratio of 2 variances, given that variance is always non-negative, F distribution is also non-negative. Note that it is highly unlikely that F will have an exact value = 0.\n",
    "\n",
    "2. F Distribution is always skewed to the right\n",
    "\n",
    "3. Shape of F distribution is determined by Numerator df & Denominator df."
   ]
  },
  {
   "cell_type": "markdown",
   "id": "ba760d00",
   "metadata": {},
   "source": [
    "### Generate an F Distribution"
   ]
  },
  {
   "cell_type": "code",
   "execution_count": 15,
   "id": "e8f66561",
   "metadata": {},
   "outputs": [],
   "source": [
    "from scipy.stats import f\n",
    "import numpy as np\n",
    "import matplotlib.pyplot as plt"
   ]
  },
  {
   "cell_type": "code",
   "execution_count": 16,
   "id": "aecd3135",
   "metadata": {},
   "outputs": [
    {
     "data": {
      "image/png": "[encoded data removed]",
      "text/plain": [
       "<Figure size 432x288 with 1 Axes>"
      ]
     },
     "metadata": {
      "needs_background": "light"
     },
     "output_type": "display_data"
    }
   ],
   "source": [
    "x_axis = np.linspace(start = 0, stop = 10, num = 10000)\n",
    "y_axis = [f.pdf(x, 10, 10, loc = 0, scale = 1) for x in x_axis]\n",
    "\n",
    "plt.plot(x_axis, y_axis)\n",
    "plt.show()"
   ]
  },
  {
   "cell_type": "markdown",
   "id": "84602217",
   "metadata": {},
   "source": [
    "### What does F Distribution actually tell us?"
   ]
  },
  {
   "cell_type": "markdown",
   "id": "f7d64fb9",
   "metadata": {},
   "source": [
    "1. Area under F Distribution tells us the probability of finding a value for ratio of 2 variances that follow a $chi^2$ distribution of same/different degrees of freedom.\n",
    "\n",
    "2. Notice that most of the area is covered b/w 0 & 2 (in majority of the f distribution shapes). This means that:\n",
    "    - when we pick two numbers (each from standard normal distribution), square them individually, and divide them, there is a very high probability of the ratio lying b/w 0-2. In a standard normal distribution, 68% of the data lies within 1 standard deviation of the mean. Hence, it is highly likely that the 2 numbers picked from standard normal distribution will lie in this interval. Hence, there ratio lies between 0-2. \n",
    "    \n",
    "3. However, in some cases, it is possible that one of the numbers or both of the numbers (even rarer) is picked from the less probable region (beyond 2 or 2 standard deviations from the mean). In these cases, the ratio of the squares of the two numbers will be greater than 2 (better to say that it will be a large number). But remember that this is highly unlikely. Hence the area under the F-distribution after x = 2, is very small (becomes a rejection region in hypothesis testing)."
   ]
  },
  {
   "cell_type": "markdown",
   "id": "d6534f35",
   "metadata": {},
   "source": [
    "### Use-Cases: Hypothesis Testing for comparing Variances"
   ]
  },
  {
   "cell_type": "code",
   "execution_count": null,
   "id": "f986763b",
   "metadata": {},
   "outputs": [],
   "source": []
  }
 ],
 "metadata": {
  "kernelspec": {
   "display_name": "Python 3",
   "language": "python",
   "name": "python3"
  },
  "language_info": {
   "codemirror_mode": {
    "name": "ipython",
    "version": 3
   },
   "file_extension": ".py",
   "mimetype": "text/x-python",
   "name": "python",
   "nbconvert_exporter": "python",
   "pygments_lexer": "ipython3",
   "version": "3.8.8"
  }
 },
 "nbformat": 4,
 "nbformat_minor": 5
}
