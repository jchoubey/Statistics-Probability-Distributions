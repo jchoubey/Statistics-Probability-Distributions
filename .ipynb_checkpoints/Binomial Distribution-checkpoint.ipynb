{
 "cells": [
  {
   "cell_type": "markdown",
   "id": "567a0ca0",
   "metadata": {},
   "source": [
    "## Binomial Distribution"
   ]
  },
  {
   "cell_type": "markdown",
   "id": "7f6926be",
   "metadata": {},
   "source": [
    "What is a Binomial Distribution?\n",
    "\n",
    "It refers to a series of events where each event either results in pass or fail. Success or Failure. An important point to consider here is that the probability of success is constant througout the series. \n",
    "\n",
    "*Note: Life is not a Binomial Distribution. Wonder why? Because the probability of success is ever changing!!* \n",
    "\n",
    "<u> Intuition behind the shape of binomial distribution: </u>\n",
    "- It will always peak at the point where the probability is maximum (of course).\n",
    "\n",
    "<u> Assumptions of Binomial Distribution </u>\n",
    "- 2 possible outcomes\n",
    "- $P_{r}(success)$ is same across all trials\n",
    "- Each trial is independent of all other trials\n",
    "- Number of Trials is fixed"
   ]
  },
  {
   "cell_type": "markdown",
   "id": "88d7f0a4",
   "metadata": {},
   "source": [
    "### Generate a Binomial Distribution"
   ]
  },
  {
   "cell_type": "markdown",
   "id": "d689b6f0",
   "metadata": {},
   "source": [
    "**1. Using numpy library**"
   ]
  },
  {
   "cell_type": "code",
   "execution_count": 1,
   "id": "df7bcc2b",
   "metadata": {},
   "outputs": [
    {
     "data": {
      "text/plain": [
       "array([6, 8, 5, 7, 6, 7])"
      ]
     },
     "execution_count": 1,
     "metadata": {},
     "output_type": "execute_result"
    }
   ],
   "source": [
    "from numpy import random\n",
    "\n",
    "binomial_outcome = random.binomial(n = 10, p = 0.67, size = 6)\n",
    "binomial_outcome"
   ]
  },
  {
   "cell_type": "markdown",
   "id": "57364b30",
   "metadata": {},
   "source": [
    "Each number in the array represents the number of “successes” experienced during 10 trials where the probability of success in a given trial was 0.67."
   ]
  },
  {
   "cell_type": "markdown",
   "id": "8d892642",
   "metadata": {},
   "source": [
    "**2. Using Scipy.Stats Package:**"
   ]
  },
  {
   "cell_type": "code",
   "execution_count": 2,
   "id": "1f0d3a67",
   "metadata": {},
   "outputs": [
    {
     "data": {
      "image/png": "[encoded data removed]",
      "text/plain": [
       "<Figure size 432x288 with 1 Axes>"
      ]
     },
     "metadata": {
      "needs_background": "light"
     },
     "output_type": "display_data"
    }
   ],
   "source": [
    "from scipy.stats import binom\n",
    "import matplotlib.pyplot as plt\n",
    "import seaborn as sns\n",
    "\n",
    "rv_numbers = binom.rvs(n = 10, p = 0.67, size = 10000)\n",
    "sns.histplot(rv_numbers)\n",
    "plt.show()"
   ]
  },
  {
   "cell_type": "markdown",
   "id": "33be4111",
   "metadata": {},
   "source": [
    "For consistency, we will continue using 'binom' module from scipy.stats package in the further concepts & examples."
   ]
  },
  {
   "cell_type": "markdown",
   "id": "3d526ba8",
   "metadata": {},
   "source": [
    "### Evaluate Probabilities and Basic Stats of a Binomial Distribution"
   ]
  },
  {
   "cell_type": "markdown",
   "id": "48a7c0c3",
   "metadata": {},
   "source": [
    "**1. Singular Probability (given outcome)**"
   ]
  },
  {
   "cell_type": "code",
   "execution_count": 3,
   "id": "86bebf28",
   "metadata": {},
   "outputs": [
    {
     "data": {
      "text/plain": [
       "0.01932985760468119"
      ]
     },
     "execution_count": 3,
     "metadata": {},
     "output_type": "execute_result"
    }
   ],
   "source": [
    "binom.pmf(k = 6, n = 20, p = 0.12)"
   ]
  },
  {
   "cell_type": "markdown",
   "id": "18fdf3fe",
   "metadata": {},
   "source": [
    "**2. Cumulative Probability (set of outcomes)**"
   ]
  },
  {
   "cell_type": "markdown",
   "id": "d8ecb0c2",
   "metadata": {},
   "source": [
    "1. P(X <=4)"
   ]
  },
  {
   "cell_type": "code",
   "execution_count": 4,
   "id": "a36f7156",
   "metadata": {},
   "outputs": [
    {
     "data": {
      "text/plain": [
       "0.9172806237712643"
      ]
     },
     "execution_count": 4,
     "metadata": {},
     "output_type": "execute_result"
    }
   ],
   "source": [
    "binom.cdf(k = 4, n = 20, p = 0.12)"
   ]
  },
  {
   "cell_type": "markdown",
   "id": "a61ef14c",
   "metadata": {},
   "source": [
    "2. P(X >= 4)"
   ]
  },
  {
   "cell_type": "code",
   "execution_count": 5,
   "id": "77154579",
   "metadata": {},
   "outputs": [
    {
     "data": {
      "text/plain": [
       "0.21265897457131533"
      ]
     },
     "execution_count": 5,
     "metadata": {},
     "output_type": "execute_result"
    }
   ],
   "source": [
    "1 - binom.cdf(k = 3, n = 20, p = 0.12)"
   ]
  },
  {
   "cell_type": "markdown",
   "id": "a602400f",
   "metadata": {},
   "source": [
    "**3. Expectation & Variance of a Binomial Distribution**"
   ]
  },
  {
   "cell_type": "code",
   "execution_count": 6,
   "id": "16a6d565",
   "metadata": {},
   "outputs": [
    {
     "data": {
      "text/plain": [
       "(array(2.4), array(2.112))"
      ]
     },
     "execution_count": 6,
     "metadata": {},
     "output_type": "execute_result"
    }
   ],
   "source": [
    "binom.stats(n = 20, p = 0.12)"
   ]
  },
  {
   "cell_type": "markdown",
   "id": "de8c880d",
   "metadata": {},
   "source": [
    "The first number in the array (2.4) represents the mean, while the second number (2.112) represents the variance."
   ]
  },
  {
   "cell_type": "markdown",
   "id": "47309cda",
   "metadata": {},
   "source": [
    "### Visualizing a Binomial Distribution"
   ]
  },
  {
   "cell_type": "code",
   "execution_count": 8,
   "id": "65108817",
   "metadata": {},
   "outputs": [
    {
     "data": {
      "image/png": "[encoded data removed]",
      "text/plain": [
       "<Figure size 432x288 with 1 Axes>"
      ]
     },
     "metadata": {
      "needs_background": "light"
     },
     "output_type": "display_data"
    }
   ],
   "source": [
    "from scipy.stats import binom\n",
    "import seaborn as sns\n",
    "\n",
    "n = 10\n",
    "p = 0.16\n",
    "\n",
    "# List of possible outcomes\n",
    "outcomes = list(range(n+1))\n",
    "\n",
    "# Mean & Variance of Binomial Distribution\n",
    "mean, var = binom.stats(n, p)\n",
    "\n",
    "# List of Probability of each possible outcome (PMF)\n",
    "pmf_values = [binom.pmf(i, n, p) for i in outcomes]\n",
    "\n",
    "# Plotting the graph\n",
    "sns.barplot(x = outcomes, y = pmf_values)\n",
    "plt.show()"
   ]
  },
  {
   "cell_type": "markdown",
   "id": "7c98ec37",
   "metadata": {},
   "source": [
    "**Note:** A Binomial Distribution with equally likely chances of both success & failue becomes Normal Distribution."
   ]
  },
  {
   "cell_type": "code",
   "execution_count": 9,
   "id": "b0f9e649",
   "metadata": {},
   "outputs": [
    {
     "data": {
      "image/png": "[encoded data removed]",
      "text/plain": [
       "<Figure size 432x288 with 1 Axes>"
      ]
     },
     "metadata": {
      "needs_background": "light"
     },
     "output_type": "display_data"
    }
   ],
   "source": [
    "n = 10\n",
    "p = 0.5 # Equally Likely chances of both outcomes\n",
    "\n",
    "# List of possible outcomes\n",
    "outcomes = list(range(n+1))\n",
    "\n",
    "# Mean & Variance of Binomial Distribution\n",
    "mean, var = binom.stats(n, p)\n",
    "\n",
    "# List of Probability of each possible outcome (PMF)\n",
    "pmf_values = [binom.pmf(i, n, p) for i in outcomes]\n",
    "\n",
    "# Plotting the graph\n",
    "sns.barplot(x = outcomes, y = pmf_values)\n",
    "plt.show()"
   ]
  },
  {
   "cell_type": "markdown",
   "id": "028c41f7",
   "metadata": {},
   "source": [
    "### Example Problems"
   ]
  },
  {
   "cell_type": "markdown",
   "id": "a3b872b9",
   "metadata": {},
   "source": [
    "**Question 1:** Nathan makes 60% of his free-throw attempts. If he shoots 12 free throws, what is the probability that he makes exactly 10?"
   ]
  },
  {
   "cell_type": "code",
   "execution_count": 38,
   "id": "10f68ca2",
   "metadata": {},
   "outputs": [
    {
     "name": "stdout",
     "output_type": "stream",
     "text": [
      "[ 6  7  9  8  8 10  7  6  8  5  8  7]\n"
     ]
    },
    {
     "data": {
      "image/png": "[encoded data removed]",
      "text/plain": [
       "<Figure size 360x360 with 1 Axes>"
      ]
     },
     "metadata": {
      "needs_background": "light"
     },
     "output_type": "display_data"
    }
   ],
   "source": [
    "from numpy import random\n",
    "\n",
    "outcome = random.binomial(n = 12, p = 0.6, size = 12)\n",
    "print(outcome)\n",
    "sns.displot(outcome)\n",
    "plt.show()"
   ]
  },
  {
   "cell_type": "code",
   "execution_count": 1,
   "id": "dc582112",
   "metadata": {},
   "outputs": [
    {
     "data": {
      "text/plain": [
       "0.06385228185599987"
      ]
     },
     "execution_count": 1,
     "metadata": {},
     "output_type": "execute_result"
    }
   ],
   "source": [
    "from scipy.stats import binom\n",
    "\n",
    "binom.pmf(k = 10, n = 12, p = 0.6)"
   ]
  },
  {
   "cell_type": "markdown",
   "id": "a8017f1e",
   "metadata": {},
   "source": [
    "**Question 2:** Marty flips a fair coin 5 times. What is the probability that the coin lands on heads 2 times or fewer?"
   ]
  },
  {
   "cell_type": "code",
   "execution_count": 16,
   "id": "ded40a23",
   "metadata": {},
   "outputs": [
    {
     "name": "stdout",
     "output_type": "stream",
     "text": [
      "[4 4 2]\n"
     ]
    },
    {
     "data": {
      "text/plain": [
       "0.5"
      ]
     },
     "execution_count": 16,
     "metadata": {},
     "output_type": "execute_result"
    }
   ],
   "source": [
    "from numpy import random\n",
    "\n",
    "print(random.binomial(n = 5, p = 0.5, size = 3))\n",
    "binom.cdf(k = 2, n = 5, p = 0.5)"
   ]
  },
  {
   "cell_type": "markdown",
   "id": "8e943032",
   "metadata": {},
   "source": [
    "**Question 3:** It is known that 70% of individuals support a certain law. If 10 individuals are randomly selected, what is the probability that between 4 and 6 of them support the law?"
   ]
  },
  {
   "cell_type": "code",
   "execution_count": 28,
   "id": "2fc41bc4",
   "metadata": {},
   "outputs": [
    {
     "data": {
      "text/plain": [
       "0.3397972032000002"
      ]
     },
     "execution_count": 28,
     "metadata": {},
     "output_type": "execute_result"
    }
   ],
   "source": [
    "binom.cdf(k = 6, n = 10, p = 0.7) - binom.cdf(k = 3, n = 10, p = 0.7)"
   ]
  },
  {
   "cell_type": "markdown",
   "id": "12ff909b",
   "metadata": {},
   "source": [
    "**Question 4**: Let’s say that 80% of all business startups in the IT industry report that they generate a profit in their first year. If a sample of 10 new IT business startups is selected, find the probability that exactly seven will generate a profit in their first year."
   ]
  },
  {
   "cell_type": "code",
   "execution_count": 20,
   "id": "506d6f8c",
   "metadata": {},
   "outputs": [
    {
     "data": {
      "image/png": "[encoded data removed]",
      "text/plain": [
       "<Figure size 432x288 with 1 Axes>"
      ]
     },
     "metadata": {
      "needs_background": "light"
     },
     "output_type": "display_data"
    }
   ],
   "source": [
    "from scipy.stats import binom\n",
    "import numpy as np\n",
    "import matplotlib.pyplot as plt\n",
    "\n",
    "x_axis = np.linspace(start = 1, stop = 10, num = 10)\n",
    "y_axis = [binom.pmf(k = x, n = 10, p = 0.8) for x in x_axis]\n",
    "\n",
    "plt.bar(x_axis, y_axis)\n",
    "plt.show()"
   ]
  },
  {
   "cell_type": "code",
   "execution_count": 21,
   "id": "6387ad8b",
   "metadata": {},
   "outputs": [
    {
     "data": {
      "text/plain": [
       "0.20132659200000014"
      ]
     },
     "execution_count": 21,
     "metadata": {},
     "output_type": "execute_result"
    }
   ],
   "source": [
    "# For k = 7\n",
    "\n",
    "binom.pmf(k = 7, n = 10, p = 0.8)"
   ]
  },
  {
   "cell_type": "markdown",
   "id": "12870b6d",
   "metadata": {},
   "source": [
    "**Question 5:** Your basketball team is playing a series of 5 games against your opponent. The winner is those who wins more games (out of 5). Let assume that your team is much more skilled and has 75% chances of winning. It means there is a 25% chance of losing. What is the probability of your team get 3 wins?"
   ]
  },
  {
   "cell_type": "code",
   "execution_count": 22,
   "id": "9bc4ee43",
   "metadata": {},
   "outputs": [
    {
     "data": {
      "image/png": "[encoded data removed]",
      "text/plain": [
       "<Figure size 432x288 with 1 Axes>"
      ]
     },
     "metadata": {
      "needs_background": "light"
     },
     "output_type": "display_data"
    }
   ],
   "source": [
    "x_axis = np.linspace(start = 0, stop = 5, num = 6)\n",
    "y_axis = [binom.pmf(k = x, n = 5, p = 0.75) for x in x_axis]\n",
    "\n",
    "plt.bar(x_axis, y_axis)\n",
    "plt.show()"
   ]
  },
  {
   "cell_type": "code",
   "execution_count": 23,
   "id": "c4b9ff9f",
   "metadata": {},
   "outputs": [
    {
     "data": {
      "text/plain": [
       "0.26367187499999994"
      ]
     },
     "execution_count": 23,
     "metadata": {},
     "output_type": "execute_result"
    }
   ],
   "source": [
    "binom.pmf(k = 3, n = 5, p = 0.75)"
   ]
  },
  {
   "cell_type": "markdown",
   "id": "626f6d42",
   "metadata": {},
   "source": [
    "**Question 6:** A box of candies has many different colors in it. There is a 15% chance of getting a pink candy. What is the probability that exactly 4 candies in a box are pink out of 10?"
   ]
  },
  {
   "cell_type": "code",
   "execution_count": 25,
   "id": "5c5e2e84",
   "metadata": {},
   "outputs": [
    {
     "data": {
      "image/png": "[encoded data removed]",
      "text/plain": [
       "<Figure size 432x288 with 1 Axes>"
      ]
     },
     "metadata": {
      "needs_background": "light"
     },
     "output_type": "display_data"
    }
   ],
   "source": [
    "x_axis = np.linspace(start = 0, stop = 10, num = 11)\n",
    "y_axis = [binom.pmf(k = x, n = 10, p = 0.15) for x in x_axis]\n",
    "\n",
    "plt.bar(x_axis, y_axis)\n",
    "plt.show()"
   ]
  },
  {
   "cell_type": "code",
   "execution_count": 26,
   "id": "6622b484",
   "metadata": {},
   "outputs": [
    {
     "data": {
      "text/plain": [
       "0.04009570787988284"
      ]
     },
     "execution_count": 26,
     "metadata": {},
     "output_type": "execute_result"
    }
   ],
   "source": [
    "binom.pmf(k = 4, n = 10, p = 0.15)"
   ]
  },
  {
   "cell_type": "code",
   "execution_count": null,
   "id": "624f4b66",
   "metadata": {},
   "outputs": [],
   "source": []
  },
  {
   "cell_type": "code",
   "execution_count": null,
   "id": "6383e4b8",
   "metadata": {},
   "outputs": [],
   "source": []
  }
 ],
 "metadata": {
  "kernelspec": {
   "display_name": "Python 3",
   "language": "python",
   "name": "python3"
  },
  "language_info": {
   "codemirror_mode": {
    "name": "ipython",
    "version": 3
   },
   "file_extension": ".py",
   "mimetype": "text/x-python",
   "name": "python",
   "nbconvert_exporter": "python",
   "pygments_lexer": "ipython3",
   "version": "3.8.8"
  }
 },
 "nbformat": 4,
 "nbformat_minor": 5
}
