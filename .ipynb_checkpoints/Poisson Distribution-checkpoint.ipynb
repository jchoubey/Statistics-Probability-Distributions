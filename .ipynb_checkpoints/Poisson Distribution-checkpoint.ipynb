{
 "cells": [
  {
   "cell_type": "markdown",
   "id": "8bc6e575",
   "metadata": {},
   "source": [
    "## Posisson Distribution"
   ]
  },
  {
   "cell_type": "code",
   "execution_count": null,
   "id": "a43326c4",
   "metadata": {},
   "outputs": [],
   "source": []
  },
  {
   "cell_type": "markdown",
   "id": "9952251d",
   "metadata": {},
   "source": [
    "### Generate a Poisson Distribution"
   ]
  },
  {
   "cell_type": "code",
   "execution_count": 4,
   "id": "c2fedd42",
   "metadata": {},
   "outputs": [
    {
     "data": {
      "text/plain": [
       "<AxesSubplot:ylabel='Count'>"
      ]
     },
     "execution_count": 4,
     "metadata": {},
     "output_type": "execute_result"
    },
    {
     "data": {
      "image/png": "[encoded data removed]",
      "text/plain": [
       "<Figure size 432x288 with 1 Axes>"
      ]
     },
     "metadata": {
      "needs_background": "light"
     },
     "output_type": "display_data"
    }
   ],
   "source": [
    "from scipy.stats import poisson\n",
    "import seaborn as sns\n",
    "\n",
    "outcomes = poisson.rvs(mu = 3, size = 1000)\n",
    "sns.histplot(outcomes)"
   ]
  },
  {
   "cell_type": "markdown",
   "id": "67f711d6",
   "metadata": {},
   "source": [
    "### Probabilities & Basic Stats of a Poisson Distribution"
   ]
  },
  {
   "cell_type": "code",
   "execution_count": 34,
   "id": "aa68565c",
   "metadata": {},
   "outputs": [
    {
     "data": {
      "text/plain": [
       "0.10081881344492458"
      ]
     },
     "execution_count": 34,
     "metadata": {},
     "output_type": "execute_result"
    }
   ],
   "source": [
    "poisson.pmf(mu = 3, k = 5)"
   ]
  },
  {
   "cell_type": "code",
   "execution_count": 35,
   "id": "8743a2aa",
   "metadata": {},
   "outputs": [
    {
     "data": {
      "text/plain": [
       "0.42319008112684364"
      ]
     },
     "execution_count": 35,
     "metadata": {},
     "output_type": "execute_result"
    }
   ],
   "source": [
    "poisson.cdf(mu = 3, k = 2)"
   ]
  },
  {
   "cell_type": "code",
   "execution_count": 36,
   "id": "6bb0d89d",
   "metadata": {},
   "outputs": [
    {
     "data": {
      "text/plain": [
       "(array(3.), array(3.), array(0.57735027), array(0.33333333))"
      ]
     },
     "execution_count": 36,
     "metadata": {},
     "output_type": "execute_result"
    }
   ],
   "source": [
    "poisson.stats(mu = 3, moments = 'mvsk')"
   ]
  },
  {
   "cell_type": "markdown",
   "id": "eb85475f",
   "metadata": {},
   "source": [
    "1. Mean\n",
    "2. Variance\n",
    "3. Skewness\n",
    "4. Kurtosis"
   ]
  },
  {
   "cell_type": "markdown",
   "id": "8958ee35",
   "metadata": {},
   "source": [
    "### Visualizing Poisson Distribution"
   ]
  },
  {
   "cell_type": "code",
   "execution_count": 37,
   "id": "533e4d35",
   "metadata": {},
   "outputs": [
    {
     "data": {
      "image/png": "[encoded data removed]",
      "text/plain": [
       "<Figure size 432x288 with 1 Axes>"
      ]
     },
     "metadata": {
      "needs_background": "light"
     },
     "output_type": "display_data"
    }
   ],
   "source": [
    "from scipy.stats import poisson\n",
    "import matplotlib.pyplot as plt\n",
    "import seaborn as sns\n",
    "\n",
    "mu = 6\n",
    "\n",
    "# List of possible outcomes (In reality, it is 0 to inf. But for plotting purpose, provide an upper bound)\n",
    "outcomes = list(range(20))\n",
    "\n",
    "# Mean & Variance of Poisson Distribution\n",
    "mean, var = poisson.stats(mu)\n",
    "\n",
    "# List of Probability of each possible outcome (PMF)\n",
    "pmf_values = [poisson.pmf(i, mu) for i in outcomes]\n",
    "\n",
    "# Plotting the graph\n",
    "sns.barplot(x = outcomes, y = pmf_values)\n",
    "plt.show()"
   ]
  },
  {
   "cell_type": "markdown",
   "id": "ab74c87f",
   "metadata": {},
   "source": [
    "### Example Problems"
   ]
  },
  {
   "cell_type": "code",
   "execution_count": null,
   "id": "fc5f4b59",
   "metadata": {},
   "outputs": [],
   "source": []
  },
  {
   "cell_type": "code",
   "execution_count": null,
   "id": "b9c9ef82",
   "metadata": {},
   "outputs": [],
   "source": []
  },
  {
   "cell_type": "code",
   "execution_count": null,
   "id": "f51f129b",
   "metadata": {},
   "outputs": [],
   "source": []
  }
 ],
 "metadata": {
  "kernelspec": {
   "display_name": "Python 3",
   "language": "python",
   "name": "python3"
  },
  "language_info": {
   "codemirror_mode": {
    "name": "ipython",
    "version": 3
   },
   "file_extension": ".py",
   "mimetype": "text/x-python",
   "name": "python",
   "nbconvert_exporter": "python",
   "pygments_lexer": "ipython3",
   "version": "3.8.8"
  }
 },
 "nbformat": 4,
 "nbformat_minor": 5
}
