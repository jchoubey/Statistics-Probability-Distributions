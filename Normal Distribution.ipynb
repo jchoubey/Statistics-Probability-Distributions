{
 "cells": [
  {
   "cell_type": "markdown",
   "id": "485143df",
   "metadata": {},
   "source": [
    "### Generate a Normal Distribution"
   ]
  },
  {
   "cell_type": "code",
   "execution_count": 1,
   "id": "c1ea8a24",
   "metadata": {},
   "outputs": [
    {
     "data": {
      "image/png": "[encoded data removed]",
      "text/plain": [
       "<Figure size 432x288 with 1 Axes>"
      ]
     },
     "metadata": {
      "needs_background": "light"
     },
     "output_type": "display_data"
    }
   ],
   "source": [
    "from scipy.stats import norm\n",
    "import matplotlib.pyplot as plt\n",
    "import seaborn as sns\n",
    "\n",
    "rv_numbers = norm.rvs(loc = 0, scale = 1, size = 10000)\n",
    "sns.histplot(rv_numbers)\n",
    "plt.show()"
   ]
  },
  {
   "cell_type": "markdown",
   "id": "cd4e11a7",
   "metadata": {},
   "source": [
    "This is a standard normal distribution with mean = 0 & standard deviation = 1."
   ]
  },
  {
   "cell_type": "markdown",
   "id": "b8af2a46",
   "metadata": {},
   "source": [
    "### Probabilities of a Normal Distribution"
   ]
  },
  {
   "cell_type": "code",
   "execution_count": 11,
   "id": "195315b0",
   "metadata": {},
   "outputs": [
    {
     "data": {
      "text/plain": [
       "0.3989422804014327"
      ]
     },
     "execution_count": 11,
     "metadata": {},
     "output_type": "execute_result"
    }
   ],
   "source": [
    "norm.pdf(x = 0, loc = 0, scale = 1)"
   ]
  },
  {
   "cell_type": "code",
   "execution_count": 12,
   "id": "2535d9e0",
   "metadata": {},
   "outputs": [
    {
     "data": {
      "text/plain": [
       "0.5"
      ]
     },
     "execution_count": 12,
     "metadata": {},
     "output_type": "execute_result"
    }
   ],
   "source": [
    "norm.cdf(x = 0, loc = 0, scale = 1)"
   ]
  },
  {
   "cell_type": "markdown",
   "id": "b3a754c9",
   "metadata": {},
   "source": [
    "### Visualizing a Normal Distribution"
   ]
  },
  {
   "cell_type": "code",
   "execution_count": 18,
   "id": "9dc3602b",
   "metadata": {},
   "outputs": [
    {
     "data": {
      "image/png": "[encoded data removed]",
      "text/plain": [
       "<Figure size 720x360 with 1 Axes>"
      ]
     },
     "metadata": {
      "needs_background": "light"
     },
     "output_type": "display_data"
    }
   ],
   "source": [
    "from scipy.stats import norm\n",
    "import numpy as np\n",
    "import seaborn as sns\n",
    "\n",
    "loc = 0\n",
    "scale = 1\n",
    "\n",
    "# List of possible outcomes\n",
    "outcomes = np.linspace(-4,4,100)\n",
    "\n",
    "# List of Probability of each possible outcome (PMF)\n",
    "pdf_values = [norm.pdf(i, loc, scale) for i in outcomes]\n",
    "\n",
    "# Plotting the graph\n",
    "plt.subplots(figsize = (10,5))\n",
    "sns.lineplot(x = outcomes, y = pdf_values)\n",
    "plt.show()"
   ]
  },
  {
   "cell_type": "markdown",
   "id": "c38cc679",
   "metadata": {},
   "source": [
    "### Example Problems"
   ]
  },
  {
   "cell_type": "markdown",
   "id": "199a6c14",
   "metadata": {},
   "source": [
    "In almost all Normal Distribution problems, the provided normal distribution is first converted to standard normal distribution by doing the following:\n",
    "1. Shifting the mean to 0 (subtracting actual mean from all x values)\n",
    "2. Scaling the standard deviation to 1 (dividing by actual standard deviation)\n",
    "\n",
    "After doing tehse 2 steps, each x positional variable becomes a z-score: a variable on the x-axis of the standardized normal distribution. It then becomes easy to calculate the area under the curve at that point (z-score) which is inturn the cumulative probability at that point."
   ]
  },
  {
   "cell_type": "code",
   "execution_count": null,
   "id": "643de400",
   "metadata": {},
   "outputs": [],
   "source": []
  },
  {
   "cell_type": "code",
   "execution_count": null,
   "id": "9c47968b",
   "metadata": {},
   "outputs": [],
   "source": []
  },
  {
   "cell_type": "code",
   "execution_count": null,
   "id": "a2ab22b1",
   "metadata": {},
   "outputs": [],
   "source": []
  },
  {
   "cell_type": "code",
   "execution_count": null,
   "id": "d7799882",
   "metadata": {},
   "outputs": [],
   "source": []
  },
  {
   "cell_type": "code",
   "execution_count": null,
   "id": "f694390c",
   "metadata": {},
   "outputs": [],
   "source": []
  },
  {
   "cell_type": "code",
   "execution_count": null,
   "id": "581b4b00",
   "metadata": {},
   "outputs": [],
   "source": []
  },
  {
   "cell_type": "code",
   "execution_count": null,
   "id": "aa5cf6ae",
   "metadata": {},
   "outputs": [],
   "source": []
  },
  {
   "cell_type": "code",
   "execution_count": null,
   "id": "d7232f7a",
   "metadata": {},
   "outputs": [],
   "source": []
  }
 ],
 "metadata": {
  "kernelspec": {
   "display_name": "Python 3",
   "language": "python",
   "name": "python3"
  },
  "language_info": {
   "codemirror_mode": {
    "name": "ipython",
    "version": 3
   },
   "file_extension": ".py",
   "mimetype": "text/x-python",
   "name": "python",
   "nbconvert_exporter": "python",
   "pygments_lexer": "ipython3",
   "version": "3.8.8"
  }
 },
 "nbformat": 4,
 "nbformat_minor": 5
}
